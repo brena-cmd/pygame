{
 "cells": [
  {
   "cell_type": "code",
   "execution_count": 2,
   "metadata": {},
   "outputs": [
    {
     "name": "stdout",
     "output_type": "stream",
     "text": [
      "Collecting pygame\n",
      "  Downloading pygame-2.5.1-cp39-cp39-win_amd64.whl (10.6 MB)\n",
      "     ---------------------------------------- 10.6/10.6 MB 8.0 MB/s eta 0:00:00\n",
      "Installing collected packages: pygame\n",
      "Successfully installed pygame-2.5.1\n"
     ]
    }
   ],
   "source": [
    "!pip install pygame"
   ]
  },
  {
   "cell_type": "code",
   "execution_count": 1,
   "metadata": {},
   "outputs": [
    {
     "name": "stdout",
     "output_type": "stream",
     "text": [
      "pygame 2.5.1 (SDL 2.28.2, Python 3.9.13)\n",
      "Hello from the pygame community. https://www.pygame.org/contribute.html\n"
     ]
    }
   ],
   "source": [
    "import pygame\n",
    "from pygame.locals import *\n",
    "from sys import exit"
   ]
  },
  {
   "cell_type": "code",
   "execution_count": 6,
   "metadata": {},
   "outputs": [
    {
     "ename": "SystemExit",
     "evalue": "",
     "output_type": "error",
     "traceback": [
      "An exception has occurred, use %tb to see the full traceback.\n",
      "\u001b[1;31mSystemExit\u001b[0m\n"
     ]
    },
    {
     "name": "stderr",
     "output_type": "stream",
     "text": [
      "C:\\Users\\brena\\anaconda3\\lib\\site-packages\\IPython\\core\\interactiveshell.py:3465: UserWarning: To exit: use 'exit', 'quit', or Ctrl-D.\n",
      "  warn(\"To exit: use 'exit', 'quit', or Ctrl-D.\", stacklevel=1)\n"
     ]
    }
   ],
   "source": [
    "\n",
    "pygame.init()\n",
    "\n",
    "# definindo as dimensões da tela\n",
    "largura = 640\n",
    "altura = 480  \n",
    "x = largura/2\n",
    "y = 0                              \n",
    "tela = pygame.display.set_mode((largura, altura))\n",
    "pygame.display.set_caption(\"Jogo legal\")\n",
    "relogio = pygame.time.Clock()\n",
    "\n",
    "# loop principal do jogo\n",
    "while True:\n",
    "    #quantos frames\n",
    "    relogio.tick(10)\n",
    "    tela.fill((0,0,0))\n",
    "    #detectar se algum evento ocorreu\n",
    "    for event in pygame.event.get():\n",
    "\n",
    "        # captura o evento de fechar a janela\n",
    "        if event.type == QUIT:\n",
    "            try:\n",
    "                pygame.quit()\n",
    "                exit()\n",
    "            except Exception as error:\n",
    "                print(error)\n",
    "    \n",
    "    #desenha retangulo                 x   y   w  h\n",
    "    pygame.draw.rect(tela,(255,0,0), (x,y,40,50))\n",
    "    if y >= altura:\n",
    "        y = 0\n",
    "    y = y + 1\n",
    "    #atualiza a tela            \n",
    "    pygame.display.update()"
   ]
  }
 ],
 "metadata": {
  "kernelspec": {
   "display_name": "Python 3 (ipykernel)",
   "language": "python",
   "name": "python3"
  },
  "orig_nbformat": 4
 },
 "nbformat": 4,
 "nbformat_minor": 2
}
