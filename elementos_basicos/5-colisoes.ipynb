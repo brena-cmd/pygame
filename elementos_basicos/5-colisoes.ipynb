{
 "cells": [
  {
   "cell_type": "code",
   "execution_count": 2,
   "metadata": {},
   "outputs": [
    {
     "name": "stdout",
     "output_type": "stream",
     "text": [
      "Collecting pygame\n",
      "  Downloading pygame-2.5.1-cp39-cp39-win_amd64.whl (10.6 MB)\n",
      "     ---------------------------------------- 10.6/10.6 MB 8.0 MB/s eta 0:00:00\n",
      "Installing collected packages: pygame\n",
      "Successfully installed pygame-2.5.1\n"
     ]
    }
   ],
   "source": [
    "!pip install pygame"
   ]
  },
  {
   "cell_type": "code",
   "execution_count": 8,
   "metadata": {},
   "outputs": [],
   "source": [
    "import pygame\n",
    "from pygame.locals import *\n",
    "from sys import exit\n",
    "from random import randint"
   ]
  },
  {
   "cell_type": "code",
   "execution_count": 10,
   "metadata": {},
   "outputs": [
    {
     "ename": "SystemExit",
     "evalue": "",
     "output_type": "error",
     "traceback": [
      "An exception has occurred, use %tb to see the full traceback.\n",
      "\u001b[1;31mSystemExit\u001b[0m\n"
     ]
    }
   ],
   "source": [
    "\n",
    "pygame.init()\n",
    "\n",
    "# definindo as dimensões da tela\n",
    "largura = 640\n",
    "altura = 480  \n",
    "x = largura/2\n",
    "y = 0       \n",
    "\n",
    "x_azul = randint(40,600)\n",
    "y_azul = randint(50,430)\n",
    "\n",
    "tela = pygame.display.set_mode((largura, altura))\n",
    "pygame.display.set_caption(\"Jogo legal\")\n",
    "relogio = pygame.time.Clock()\n",
    "\n",
    "# loop principal do jogo\n",
    "while True:\n",
    "    #quantos frames\n",
    "    relogio.tick(30)\n",
    "    tela.fill((0,0,0))\n",
    "    #detectar se algum evento ocorreu\n",
    "    for event in pygame.event.get():\n",
    "\n",
    "        # captura o evento de fechar a janela\n",
    "        if event.type == QUIT:\n",
    "            try:\n",
    "                pygame.quit()\n",
    "                exit()\n",
    "            except Exception as error:\n",
    "                print(error)\n",
    "        '''if event.type == KEYDOWN:\n",
    "            if event.key == K_a:\n",
    "                x = x - 20\n",
    "            if event.key == K_d:\n",
    "                x = x + 20\n",
    "            if event.key == K_w:\n",
    "                y = y - 20\n",
    "            if event.key == K_s:\n",
    "                y = y + 20'''\n",
    "        if pygame.key.get_pressed()[K_a] :\n",
    "            x = x - 20\n",
    "        if pygame.key.get_pressed()[K_d] :\n",
    "            x = x + 20\n",
    "        if pygame.key.get_pressed()[K_w] :\n",
    "            y = y - 20\n",
    "        if pygame.key.get_pressed()[K_s] :\n",
    "            y = y + 20\n",
    "    #desenha retangulo                 x   y   w  h\n",
    "    ret_vermelho = pygame.draw.rect(tela,(255,0,0), (x,y,40,50))\n",
    "    ret_azul = pygame.draw.rect(tela,(0,0,255), (x_azul,y_azul,40,50))\n",
    "    \n",
    "    if ret_vermelho.colliderect(ret_azul):\n",
    "        x_azul = randint(40,600)\n",
    "        y_azul = randint(50,430)\n",
    "    #atualiza a tela            \n",
    "    pygame.display.update()"
   ]
  }
 ],
 "metadata": {
  "kernelspec": {
   "display_name": "Python 3 (ipykernel)",
   "language": "python",
   "name": "python3"
  },
  "orig_nbformat": 4
 },
 "nbformat": 4,
 "nbformat_minor": 2
}
